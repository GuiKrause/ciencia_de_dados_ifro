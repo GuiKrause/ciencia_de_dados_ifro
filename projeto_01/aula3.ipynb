{
 "cells": [
  {
   "cell_type": "code",
   "execution_count": 3,
   "id": "2276db89",
   "metadata": {},
   "outputs": [
    {
     "name": "stderr",
     "output_type": "stream",
     "text": [
      "/tmp/ipykernel_6889/2921631945.py:4: DtypeWarning: Columns (16) have mixed types. Specify dtype option on import or set low_memory=False.\n",
      "  df_acidentes = pd.read_csv(\"./acidentes_2022.csv\")\n"
     ]
    }
   ],
   "source": [
    "import pandas as pd\n",
    "\n",
    "# Carregar os nossos datasets\n",
    "df_acidentes = pd.read_csv(\"./acidentes_2022.csv\")\n",
    "df_localidades = pd.read_csv(\"./localidades_2022.csv\")"
   ]
  },
  {
   "cell_type": "code",
   "execution_count": 78,
   "id": "288486b8",
   "metadata": {},
   "outputs": [],
   "source": [
    "# Filtrar os dados de Rondônia\n",
    "df_acidentes = df_acidentes[df_acidentes['uf_acidente'] == \"RO\"]\n",
    "df_localidades = df_localidades[df_localidades['uf'] == \"RO\"]\n",
    "\n",
    "# Agrupar os dados por município, para realizar a contagem dos acidentes\n",
    "df_acidentes_por_cidade = df_acidentes.groupby('codigo_ibge').size().reset_index(name='total_acidentes')\n",
    "\n",
    "# Exclusão dos registros duplicados\n",
    "municipios_unicos = df_localidades[['codigo_ibge', 'municipio', 'qtde_habitantes', 'frota_total']].drop_duplicates(subset='codigo_ibge')\n",
    "\n",
    "# Junção de duas tabelas\n",
    "df_acidentes_por_cidade = pd.merge(df_acidentes_por_cidade, municipios_unicos, on='codigo_ibge')\n",
    "\n",
    "# Ordenação dos municipios pela quantidade de acidentes\n",
    "df_acidentes_por_cidade.sort_values(by='total_acidentes', ascending=False, inplace=True)\n",
    "\n",
    "# Habitantes por cidade\n",
    "df_acidentes_por_cidade['total_acidentes_por_mil_habitantes'] = df_acidentes_por_cidade['total_acidentes'] / df_acidentes_por_cidade['qtde_habitantes'] * 1000\n",
    "\n",
    "# Frotas por cidade\n",
    "df_acidentes_por_cidade['total_acidentes_por_mil_veiculos'] = df_acidentes_por_cidade['total_acidentes'] / df_acidentes_por_cidade['frota_total'] * 1000"
   ]
  },
  {
   "cell_type": "code",
   "execution_count": null,
   "id": "61aa066a",
   "metadata": {},
   "outputs": [
    {
     "data": {
      "text/html": [
       "<div>\n",
       "<style scoped>\n",
       "    .dataframe tbody tr th:only-of-type {\n",
       "        vertical-align: middle;\n",
       "    }\n",
       "\n",
       "    .dataframe tbody tr th {\n",
       "        vertical-align: top;\n",
       "    }\n",
       "\n",
       "    .dataframe thead th {\n",
       "        text-align: right;\n",
       "    }\n",
       "</style>\n",
       "<table border=\"1\" class=\"dataframe\">\n",
       "  <thead>\n",
       "    <tr style=\"text-align: right;\">\n",
       "      <th></th>\n",
       "      <th>codigo_ibge</th>\n",
       "      <th>total_acidentes</th>\n",
       "      <th>municipio</th>\n",
       "      <th>qtde_habitantes</th>\n",
       "      <th>frota_total</th>\n",
       "      <th>total_acidentes_por_mil_habitantes</th>\n",
       "      <th>total_acidentes_por_mil_veiculos</th>\n",
       "    </tr>\n",
       "  </thead>\n",
       "  <tbody>\n",
       "    <tr>\n",
       "      <th>16</th>\n",
       "      <td>1100205</td>\n",
       "      <td>5592</td>\n",
       "      <td>PORTO VELHO</td>\n",
       "      <td>548952</td>\n",
       "      <td>302563</td>\n",
       "      <td>10.186683</td>\n",
       "      <td>18.482101</td>\n",
       "    </tr>\n",
       "    <tr>\n",
       "      <th>11</th>\n",
       "      <td>1100122</td>\n",
       "      <td>1374</td>\n",
       "      <td>JI-PARANA</td>\n",
       "      <td>131026</td>\n",
       "      <td>101808</td>\n",
       "      <td>10.486468</td>\n",
       "      <td>13.495992</td>\n",
       "    </tr>\n",
       "    <tr>\n",
       "      <th>21</th>\n",
       "      <td>1100304</td>\n",
       "      <td>1330</td>\n",
       "      <td>VILHENA</td>\n",
       "      <td>104517</td>\n",
       "      <td>72965</td>\n",
       "      <td>12.725203</td>\n",
       "      <td>18.227917</td>\n",
       "    </tr>\n",
       "    <tr>\n",
       "      <th>3</th>\n",
       "      <td>1100049</td>\n",
       "      <td>971</td>\n",
       "      <td>CACOAL</td>\n",
       "      <td>86416</td>\n",
       "      <td>76029</td>\n",
       "      <td>11.236345</td>\n",
       "      <td>12.771442</td>\n",
       "    </tr>\n",
       "    <tr>\n",
       "      <th>1</th>\n",
       "      <td>1100023</td>\n",
       "      <td>966</td>\n",
       "      <td>ARIQUEMES</td>\n",
       "      <td>111148</td>\n",
       "      <td>83174</td>\n",
       "      <td>8.691115</td>\n",
       "      <td>11.614206</td>\n",
       "    </tr>\n",
       "  </tbody>\n",
       "</table>\n",
       "</div>"
      ],
      "text/plain": [
       "    codigo_ibge  total_acidentes    municipio  qtde_habitantes  frota_total  \\\n",
       "16      1100205             5592  PORTO VELHO           548952       302563   \n",
       "11      1100122             1374    JI-PARANA           131026       101808   \n",
       "21      1100304             1330      VILHENA           104517        72965   \n",
       "3       1100049              971       CACOAL            86416        76029   \n",
       "1       1100023              966    ARIQUEMES           111148        83174   \n",
       "\n",
       "    total_acidentes_por_mil_habitantes  total_acidentes_por_mil_veiculos  \n",
       "16                           10.186683                         18.482101  \n",
       "11                           10.486468                         13.495992  \n",
       "21                           12.725203                         18.227917  \n",
       "3                            11.236345                         12.771442  \n",
       "1                             8.691115                         11.614206  "
      ]
     },
     "execution_count": 79,
     "metadata": {},
     "output_type": "execute_result"
    }
   ],
   "source": []
  }
 ],
 "metadata": {
  "kernelspec": {
   "display_name": ".venv",
   "language": "python",
   "name": "python3"
  },
  "language_info": {
   "codemirror_mode": {
    "name": "ipython",
    "version": 3
   },
   "file_extension": ".py",
   "mimetype": "text/x-python",
   "name": "python",
   "nbconvert_exporter": "python",
   "pygments_lexer": "ipython3",
   "version": "3.12.3"
  }
 },
 "nbformat": 4,
 "nbformat_minor": 5
}
